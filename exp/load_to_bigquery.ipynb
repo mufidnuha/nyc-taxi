{
 "cells": [
  {
   "cell_type": "code",
   "execution_count": 35,
   "metadata": {},
   "outputs": [],
   "source": [
    "from google.cloud import bigquery\n",
    "from google.cloud import storage"
   ]
  },
  {
   "cell_type": "code",
   "execution_count": 36,
   "metadata": {},
   "outputs": [],
   "source": [
    "# Construct a BigQuery client object.\n",
    "client = bigquery.Client()\n",
    "\n",
    "# TODO(developer): Set table_id to the ID of the table to create.\n",
    "PROJECT = 'study-infinate'\n",
    "DATASET = 'nyc_taxi'\n",
    "TABLE_NAME = 'trip'\n",
    "table_id = f\"{PROJECT}.{DATASET}.{TABLE_NAME}\""
   ]
  },
  {
   "cell_type": "code",
   "execution_count": 37,
   "metadata": {},
   "outputs": [
    {
     "name": "stdout",
     "output_type": "stream",
     "text": [
      "Loaded 1446283 rows.\n",
      "Loaded 1436280 rows.\n",
      "Loaded 2008979 rows.\n",
      "Loaded 2258128 rows.\n",
      "Loaded 2595289 rows.\n",
      "Loaded 2921001 rows.\n",
      "Loaded 2905206 rows.\n",
      "data not found\n",
      "data not found\n",
      "data not found\n",
      "data not found\n",
      "data not found\n"
     ]
    }
   ],
   "source": [
    "year=2021\n",
    "\n",
    "job_config = bigquery.LoadJobConfig(source_format=bigquery.SourceFormat.PARQUET,)\n",
    "uri = f\"gs://nyc_taxi_study-infinate/pq_clean/{year}/01/*.parquet\"\n",
    "\n",
    "load_job = client.load_table_from_uri(\n",
    "    uri, table_id, job_config=job_config\n",
    ")  # Make an API request.\n",
    "\n",
    "load_job.result()  # Waits for the job to complete.\n",
    "\n",
    "destination_table = client.get_table(table_id)\n",
    "print(\"Loaded {} rows.\".format(destination_table.num_rows))\n",
    "\n",
    "for month in range(2,13):\n",
    "    try:\n",
    "        previous_rows = client.get_table(table_id).num_rows\n",
    "        fmonth = \"{:02d}\".format(month)\n",
    "\n",
    "        job_config = bigquery.LoadJobConfig(source_format=bigquery.SourceFormat.PARQUET,)\n",
    "        uri = f\"gs://nyc_taxi_study-infinate/pq_clean/{year}/{fmonth}/*.parquet\"\n",
    "\n",
    "        load_job = client.load_table_from_uri(\n",
    "            uri, table_id, job_config=job_config\n",
    "        )  # Make an API request.\n",
    "\n",
    "        load_job.result()  # Waits for the job to complete.\n",
    "\n",
    "        destination_table = client.get_table(table_id)\n",
    "        loaded_rows = destination_table.num_rows - previous_rows\n",
    "        print(\"Loaded {} rows.\".format(loaded_rows))\n",
    "    except:\n",
    "        print(\"data not found\")"
   ]
  }
 ],
 "metadata": {
  "interpreter": {
   "hash": "aee8b7b246df8f9039afb4144a1f6fd8d2ca17a180786b69acc140d282b71a49"
  },
  "kernelspec": {
   "display_name": "Python 3.8.10 64-bit",
   "language": "python",
   "name": "python3"
  },
  "language_info": {
   "codemirror_mode": {
    "name": "ipython",
    "version": 3
   },
   "file_extension": ".py",
   "mimetype": "text/x-python",
   "name": "python",
   "nbconvert_exporter": "python",
   "pygments_lexer": "ipython3",
   "version": "3.8.10"
  },
  "orig_nbformat": 4
 },
 "nbformat": 4,
 "nbformat_minor": 2
}
